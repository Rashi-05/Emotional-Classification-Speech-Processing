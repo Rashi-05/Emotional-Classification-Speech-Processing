{
  "nbformat": 4,
  "nbformat_minor": 0,
  "metadata": {
    "colab": {
      "provenance": []
    },
    "kernelspec": {
      "name": "python3",
      "display_name": "Python 3"
    },
    "language_info": {
      "name": "python"
    }
  },
  "cells": [
    {
      "cell_type": "markdown",
      "source": [
        "# Emotional Classification Speech Processing"
      ],
      "metadata": {
        "id": "z19Uk8hz9Rnh"
      }
    },
    {
      "cell_type": "code",
      "source": [
        "import os\n",
        "import zipfile\n",
        "import librosa\n",
        "import pandas as pd\n",
        "import numpy as np\n",
        "from tqdm import tqdm\n",
        "from sklearn.preprocessing import LabelEncoder, MinMaxScaler\n",
        "from sklearn.model_selection import train_test_split\n",
        "from sklearn.utils.class_weight import compute_class_weight"
      ],
      "metadata": {
        "id": "fvLTGN9UH-jB"
      },
      "execution_count": null,
      "outputs": []
    },
    {
      "cell_type": "code",
      "source": [
        "from google.colab import drive\n",
        "drive.mount('/content/drive')"
      ],
      "metadata": {
        "id": "-bFGLzgjMq0C"
      },
      "execution_count": null,
      "outputs": []
    },
    {
      "cell_type": "code",
      "source": [
        "import zipfile\n",
        "\n",
        "song_path = \"/content/drive/MyDrive/Audio_Dataset/Audio_Song_Actors_01-24.zip\"\n",
        "song_extract_to = \"/content/drive/MyDrive/Audio_Dataset/Audio_Song_Actors_01-24\"\n",
        "\n",
        "with zipfile.ZipFile(zip_path, 'r') as zip_ref:\n",
        "    zip_ref.extractall(extract_to)\n",
        "\n",
        "print(\"Unzipped successfully!\")\n"
      ],
      "metadata": {
        "id": "GUCTi3F-Mrq8"
      },
      "execution_count": null,
      "outputs": []
    },
    {
      "cell_type": "code",
      "source": [
        "import os\n",
        "print(os.listdir(\"/content/drive/MyDrive/Audio_Dataset/Audio_Song_Actors_01-24\"))"
      ],
      "metadata": {
        "id": "3Qe7AQfWMypZ"
      },
      "execution_count": null,
      "outputs": []
    },
    {
      "cell_type": "code",
      "source": [
        "import zipfile\n",
        "\n",
        "speech_zip = \"/content/drive/MyDrive/Audio_Dataset/Audio_Speech_Actors_01-24.zip\"\n",
        "speech_extract_to = \"/content/drive/MyDrive/Audio_Dataset/Audio_Speech_Actors_01-24\"\n",
        "\n",
        "with zipfile.ZipFile(speech_zip, 'r') as zip_ref:\n",
        "    zip_ref.extractall(speech_extract_to)\n",
        "\n",
        "print(\"Speech dataset unzipped!\")\n"
      ],
      "metadata": {
        "id": "zWLaqheBOBwe"
      },
      "execution_count": null,
      "outputs": []
    },
    {
      "cell_type": "code",
      "source": [],
      "metadata": {
        "id": "r-ElSVYoM_Fl"
      },
      "execution_count": null,
      "outputs": []
    },
    {
      "cell_type": "markdown",
      "source": [
        "## Feature Extraction and Emotions from Files"
      ],
      "metadata": {
        "id": "N9mBeI42NJVA"
      }
    },
    {
      "cell_type": "code",
      "source": [
        "# Emotion mapping\n",
        "emotion_map = {\n",
        "    \"01\": \"neutral\",\n",
        "    \"02\": \"calm\",\n",
        "    \"03\": \"happy\",\n",
        "    \"04\": \"sad\",\n",
        "    \"05\": \"angry\",\n",
        "    \"06\": \"fearful\",\n",
        "    \"07\": \"disgust\",\n",
        "    \"08\": \"surprised\"\n",
        "}"
      ],
      "metadata": {
        "id": "6qqeWr8BNN6T"
      },
      "execution_count": null,
      "outputs": []
    },
    {
      "cell_type": "code",
      "source": [
        "def get_emotion_from_filename(filename):\n",
        "    # filename format: 03-01-04-02-02-02-12.wav\n",
        "    parts = filename.split(\"-\")\n",
        "    return emotion_map.get(parts[2], \"unknown\")\n",
        "\n",
        "def extract_features(file_path, duration=3, sr=22050):\n",
        "    try:\n",
        "        y, sr = librosa.load(file_path, sr=sr)\n",
        "\n",
        "        # Pad or trim audio to fixed length\n",
        "        target_len = duration * sr\n",
        "        if len(y) < target_len:\n",
        "            y = np.pad(y, (0, target_len - len(y)))\n",
        "        else:\n",
        "            y = y[:target_len]\n",
        "\n",
        "        features = []\n",
        "\n",
        "        # MFCC (40)\n",
        "        mfcc = librosa.feature.mfcc(y=y, sr=sr, n_mfcc=40)\n",
        "        features.extend(np.mean(mfcc, axis=1))\n",
        "\n",
        "        # Chroma (12)\n",
        "        chroma = librosa.feature.chroma_stft(y=y, sr=sr)\n",
        "        features.extend(np.mean(chroma, axis=1))\n",
        "\n",
        "        # Mel Spectrogram (128)\n",
        "        mel = librosa.feature.melspectrogram(y=y, sr=sr)\n",
        "        features.extend(np.mean(mel, axis=1))\n",
        "\n",
        "        # Spectral Contrast (7)\n",
        "        contrast = librosa.feature.spectral_contrast(y=y, sr=sr)\n",
        "        features.extend(np.mean(contrast, axis=1))\n",
        "\n",
        "        # Tonnetz (6)\n",
        "        tonnetz = librosa.feature.tonnetz(y=librosa.effects.harmonic(y), sr=sr)\n",
        "        features.extend(np.mean(tonnetz, axis=1))\n",
        "\n",
        "        return np.array(features)\n",
        "\n",
        "    except Exception as e:\n",
        "        print(f\"Error in {file_path}: {e}\")\n",
        "        return None\n",
        "\n",
        "# -------------------------------\n",
        "# Paths to both extracted folders\n",
        "# -------------------------------\n",
        "base_path = \"/content/drive/MyDrive/Audio_Dataset\"\n",
        "parent_folders = ['Audio_Speech_Actors_01-24', 'Audio_Song_Actors_01-24']\n",
        "\n",
        "X, y = [], []\n",
        "\n",
        "for parent in parent_folders:\n",
        "    folder_path = os.path.join(base_path, parent)\n",
        "    print(f\"Processing: {folder_path}\")\n",
        "    for actor_folder in os.listdir(folder_path):\n",
        "        actor_path = os.path.join(folder_path, actor_folder)\n",
        "        if not os.path.isdir(actor_path):\n",
        "            continue\n",
        "        for file in tqdm(os.listdir(actor_path), desc=actor_folder):\n",
        "            if file.endswith('.wav'):\n",
        "                full_path = os.path.join(actor_path, file)\n",
        "                emotion = get_emotion_from_filename(file)\n",
        "                feats = extract_features(full_path)\n",
        "                if feats is not None and emotion is not None:\n",
        "                    X.append(feats)\n",
        "                    y.append(emotion)\n",
        "\n",
        "print(\"Feature extraction complete!\")\n",
        "\n",
        "# Saving as numpy array\n",
        "# Convert to arrays\n",
        "X = np.array(X)\n",
        "y = np.array(y)\n",
        "\n",
        "print(\"Feature shape:\", X.shape)\n",
        "print(\"Label shape:\", y.shape)\n",
        "print(\"Unique emotions:\", np.unique(y))"
      ],
      "metadata": {
        "id": "XcILSJc8NSNx"
      },
      "execution_count": null,
      "outputs": []
    },
    {
      "cell_type": "code",
      "source": [
        "sns.countplot(y)\n",
        "plt.title(\"Emotion Class Distribution\")\n",
        "plt.xticks(rotation=45)\n",
        "plt.grid(True)\n",
        "plt.show()"
      ],
      "metadata": {
        "id": "wRcjqijaN0YJ"
      },
      "execution_count": null,
      "outputs": []
    },
    {
      "cell_type": "code",
      "source": [],
      "metadata": {
        "id": "Ymdkdf-__8XG"
      },
      "execution_count": null,
      "outputs": []
    },
    {
      "cell_type": "markdown",
      "source": [
        "## Preprocessing"
      ],
      "metadata": {
        "id": "2WAj-V2iTSwH"
      }
    },
    {
      "cell_type": "code",
      "source": [
        "# Encode text labels to numbers\n",
        "le = LabelEncoder()\n",
        "y_encoded = le.fit_transform(y)\n",
        "\n",
        "print(\"Label Mapping:\")\n",
        "for i, label in enumerate(le.classes_):\n",
        "    print(f\"{i} = {label}\")"
      ],
      "metadata": {
        "id": "IAWKTbH1Svi_",
        "colab": {
          "base_uri": "https://localhost:8080/"
        },
        "outputId": "ee4f4901-0a93-414d-d923-bb9f6d1111ad"
      },
      "execution_count": 306,
      "outputs": [
        {
          "output_type": "stream",
          "name": "stdout",
          "text": [
            "Label Mapping:\n",
            "0 = angry\n",
            "1 = calm\n",
            "2 = disgust\n",
            "3 = fearful\n",
            "4 = happy\n",
            "5 = neutral\n",
            "6 = sad\n",
            "7 = surprised\n"
          ]
        }
      ]
    },
    {
      "cell_type": "code",
      "source": [
        "X_train, X_test, y_train, y_test = train_test_split(\n",
        "    X, y_encoded, test_size=0.2, random_state=42, stratify=y_encoded\n",
        ")"
      ],
      "metadata": {
        "id": "R4tUwpAgTeOP"
      },
      "execution_count": 307,
      "outputs": []
    },
    {
      "cell_type": "code",
      "source": [
        "scaler = MinMaxScaler()\n",
        "X_train_scaled = scaler.fit_transform(X_train)\n",
        "X_test_scaled = scaler.transform(X_test)\n",
        "\n",
        "print(\"Train shape:\", X_train_scaled.shape)\n",
        "print(\"Test shape:\", X_test_scaled.shape)"
      ],
      "metadata": {
        "id": "oX_36TftT713",
        "colab": {
          "base_uri": "https://localhost:8080/"
        },
        "outputId": "60757bab-72ef-4229-c4c9-ef3be3e5a9a1"
      },
      "execution_count": 308,
      "outputs": [
        {
          "output_type": "stream",
          "name": "stdout",
          "text": [
            "Train shape: (1961, 193)\n",
            "Test shape: (491, 193)\n"
          ]
        }
      ]
    },
    {
      "cell_type": "code",
      "source": [
        "# PCA\n",
        "\n",
        "from sklearn.decomposition import PCA\n",
        "\n",
        "pca = PCA(n_components=0.98)  # retain 98% variance\n",
        "X_train_pca = pca.fit_transform(X_train_scaled)\n",
        "X_test_pca = pca.transform(X_test_scaled)\n",
        "\n",
        "X_train_pca.shape, X_test_pca.shape"
      ],
      "metadata": {
        "id": "n9ESMy1ZVw4I",
        "colab": {
          "base_uri": "https://localhost:8080/"
        },
        "outputId": "0af887c1-0a4c-44f1-a782-be7688503f5c"
      },
      "execution_count": 309,
      "outputs": [
        {
          "output_type": "execute_result",
          "data": {
            "text/plain": [
              "((1961, 87), (491, 87))"
            ]
          },
          "metadata": {},
          "execution_count": 309
        }
      ]
    },
    {
      "cell_type": "code",
      "source": [],
      "metadata": {
        "id": "YurKIq6A_-W6"
      },
      "execution_count": 309,
      "outputs": []
    },
    {
      "cell_type": "markdown",
      "source": [
        "## Training Multilayer Perceptron"
      ],
      "metadata": {
        "id": "1H_xVKL9UOjn"
      }
    },
    {
      "cell_type": "code",
      "source": [
        "from tensorflow.keras.models import Sequential\n",
        "from tensorflow.keras.layers import Dense, Dropout, BatchNormalization\n",
        "from tensorflow.keras.regularizers import l2\n",
        "from tensorflow.keras.optimizers import Adam\n",
        "from tensorflow.keras.losses import SparseCategoricalCrossentropy\n",
        "from tensorflow.keras.callbacks import EarlyStopping, ReduceLROnPlateau\n",
        "from sklearn.utils.class_weight import compute_class_weight\n",
        "import numpy as np\n",
        "\n",
        "# -------------------------\n",
        "# Step 1: Compute class weights\n",
        "# -------------------------\n",
        "class_weights_array = compute_class_weight(\n",
        "    class_weight='balanced',\n",
        "    classes=np.unique(y_train),\n",
        "    y=y_train\n",
        ")\n",
        "class_weights = dict(enumerate(class_weights_array))\n",
        "\n",
        "print(\"Class Weights Used:\", class_weights)\n",
        "\n",
        "# -------------------------\n",
        "# Step 2: Build Improved Model\n",
        "# -------------------------\n",
        "model = Sequential([\n",
        "    Dense(256, activation='relu', input_shape=(X_train_pca.shape[1],), kernel_regularizer=l2(0.001)),\n",
        "    BatchNormalization(),\n",
        "    Dropout(0.4),\n",
        "\n",
        "    Dense(128, activation='relu', kernel_regularizer=l2(0.001)),\n",
        "    BatchNormalization(),\n",
        "    Dropout(0.4),\n",
        "\n",
        "    Dense(64, activation='relu', kernel_regularizer=l2(0.001)),\n",
        "    Dropout(0.3),\n",
        "\n",
        "    Dense(8, activation='softmax')  # 8 emotion classes\n",
        "])\n",
        "\n",
        "# -------------------------\n",
        "# Step 3: Compile the Model\n",
        "# -------------------------\n",
        "model.compile(\n",
        "    optimizer=Adam(learning_rate=0.0005),\n",
        "    loss=SparseCategoricalCrossentropy(),\n",
        "    metrics=['accuracy']\n",
        ")\n",
        "\n",
        "# -------------------------\n",
        "# Step 4: Add Callbacks\n",
        "# -------------------------\n",
        "early_stop = EarlyStopping(\n",
        "    monitor='val_loss',\n",
        "    patience=10,\n",
        "    restore_best_weights=True,\n",
        "    verbose=1\n",
        ")\n",
        "\n",
        "lr_scheduler = ReduceLROnPlateau(\n",
        "    monitor='val_loss',\n",
        "    factor=0.5,\n",
        "    patience=5,\n",
        "    verbose=1\n",
        ")\n",
        "\n",
        "# -------------------------\n",
        "# Step 5: Train the Model\n",
        "# -------------------------\n",
        "history = model.fit(\n",
        "    X_train_pca, y_train,\n",
        "    validation_data=(X_test_pca, y_test),\n",
        "    epochs=150,\n",
        "    batch_size=32,\n",
        "    class_weight=class_weights,\n",
        "    callbacks=[early_stop, lr_scheduler],\n",
        "    verbose=1\n",
        ")\n"
      ],
      "metadata": {
        "id": "aFuQVncDmLNs",
        "colab": {
          "base_uri": "https://localhost:8080/"
        },
        "outputId": "81a7fc4b-f4a1-492f-ebda-4ddbe85202dc"
      },
      "execution_count": 374,
      "outputs": [
        {
          "output_type": "stream",
          "name": "stdout",
          "text": [
            "Class Weights Used: {0: np.float64(0.8580920740389179), 1: np.float64(0.8580920740389179), 2: np.float64(0.8580920740389179), 3: np.float64(0.8580920740389179), 4: np.float64(1.7219047619047618), 5: np.float64(0.8580920740389179), 6: np.float64(1.688141923436041)}\n"
          ]
        },
        {
          "output_type": "stream",
          "name": "stderr",
          "text": [
            "/usr/local/lib/python3.11/dist-packages/keras/src/layers/core/dense.py:87: UserWarning: Do not pass an `input_shape`/`input_dim` argument to a layer. When using Sequential models, prefer using an `Input(shape)` object as the first layer in the model instead.\n",
            "  super().__init__(activity_regularizer=activity_regularizer, **kwargs)\n"
          ]
        },
        {
          "output_type": "stream",
          "name": "stdout",
          "text": [
            "Epoch 1/150\n",
            "\u001b[1m57/57\u001b[0m \u001b[32m━━━━━━━━━━━━━━━━━━━━\u001b[0m\u001b[37m\u001b[0m \u001b[1m11s\u001b[0m 31ms/step - accuracy: 0.1687 - loss: 3.1227 - val_accuracy: 0.2146 - val_loss: 2.3675 - learning_rate: 5.0000e-04\n",
            "Epoch 2/150\n",
            "\u001b[1m57/57\u001b[0m \u001b[32m━━━━━━━━━━━━━━━━━━━━\u001b[0m\u001b[37m\u001b[0m \u001b[1m0s\u001b[0m 7ms/step - accuracy: 0.2649 - loss: 2.4478 - val_accuracy: 0.2389 - val_loss: 2.2898 - learning_rate: 5.0000e-04\n",
            "Epoch 3/150\n",
            "\u001b[1m57/57\u001b[0m \u001b[32m━━━━━━━━━━━━━━━━━━━━\u001b[0m\u001b[37m\u001b[0m \u001b[1m1s\u001b[0m 15ms/step - accuracy: 0.3589 - loss: 2.1219 - val_accuracy: 0.3540 - val_loss: 2.2005 - learning_rate: 5.0000e-04\n",
            "Epoch 4/150\n",
            "\u001b[1m57/57\u001b[0m \u001b[32m━━━━━━━━━━━━━━━━━━━━\u001b[0m\u001b[37m\u001b[0m \u001b[1m1s\u001b[0m 15ms/step - accuracy: 0.3979 - loss: 1.9542 - val_accuracy: 0.4978 - val_loss: 2.0942 - learning_rate: 5.0000e-04\n",
            "Epoch 5/150\n",
            "\u001b[1m57/57\u001b[0m \u001b[32m━━━━━━━━━━━━━━━━━━━━\u001b[0m\u001b[37m\u001b[0m \u001b[1m1s\u001b[0m 10ms/step - accuracy: 0.4199 - loss: 1.8566 - val_accuracy: 0.5642 - val_loss: 1.9625 - learning_rate: 5.0000e-04\n",
            "Epoch 6/150\n",
            "\u001b[1m57/57\u001b[0m \u001b[32m━━━━━━━━━━━━━━━━━━━━\u001b[0m\u001b[37m\u001b[0m \u001b[1m1s\u001b[0m 13ms/step - accuracy: 0.4589 - loss: 1.7603 - val_accuracy: 0.5752 - val_loss: 1.8234 - learning_rate: 5.0000e-04\n",
            "Epoch 7/150\n",
            "\u001b[1m57/57\u001b[0m \u001b[32m━━━━━━━━━━━━━━━━━━━━\u001b[0m\u001b[37m\u001b[0m \u001b[1m1s\u001b[0m 11ms/step - accuracy: 0.5046 - loss: 1.6454 - val_accuracy: 0.5642 - val_loss: 1.6781 - learning_rate: 5.0000e-04\n",
            "Epoch 8/150\n",
            "\u001b[1m57/57\u001b[0m \u001b[32m━━━━━━━━━━━━━━━━━━━━\u001b[0m\u001b[37m\u001b[0m \u001b[1m1s\u001b[0m 11ms/step - accuracy: 0.5214 - loss: 1.6044 - val_accuracy: 0.5929 - val_loss: 1.5512 - learning_rate: 5.0000e-04\n",
            "Epoch 9/150\n",
            "\u001b[1m57/57\u001b[0m \u001b[32m━━━━━━━━━━━━━━━━━━━━\u001b[0m\u001b[37m\u001b[0m \u001b[1m1s\u001b[0m 10ms/step - accuracy: 0.5404 - loss: 1.5623 - val_accuracy: 0.6106 - val_loss: 1.4510 - learning_rate: 5.0000e-04\n",
            "Epoch 10/150\n",
            "\u001b[1m57/57\u001b[0m \u001b[32m━━━━━━━━━━━━━━━━━━━━\u001b[0m\u001b[37m\u001b[0m \u001b[1m1s\u001b[0m 9ms/step - accuracy: 0.5690 - loss: 1.4769 - val_accuracy: 0.6283 - val_loss: 1.3836 - learning_rate: 5.0000e-04\n",
            "Epoch 11/150\n",
            "\u001b[1m57/57\u001b[0m \u001b[32m━━━━━━━━━━━━━━━━━━━━\u001b[0m\u001b[37m\u001b[0m \u001b[1m1s\u001b[0m 10ms/step - accuracy: 0.5885 - loss: 1.4365 - val_accuracy: 0.6460 - val_loss: 1.3330 - learning_rate: 5.0000e-04\n",
            "Epoch 12/150\n",
            "\u001b[1m57/57\u001b[0m \u001b[32m━━━━━━━━━━━━━━━━━━━━\u001b[0m\u001b[37m\u001b[0m \u001b[1m1s\u001b[0m 6ms/step - accuracy: 0.6001 - loss: 1.3888 - val_accuracy: 0.6482 - val_loss: 1.2953 - learning_rate: 5.0000e-04\n",
            "Epoch 13/150\n",
            "\u001b[1m57/57\u001b[0m \u001b[32m━━━━━━━━━━━━━━━━━━━━\u001b[0m\u001b[37m\u001b[0m \u001b[1m1s\u001b[0m 7ms/step - accuracy: 0.6271 - loss: 1.3133 - val_accuracy: 0.6504 - val_loss: 1.2666 - learning_rate: 5.0000e-04\n",
            "Epoch 14/150\n",
            "\u001b[1m57/57\u001b[0m \u001b[32m━━━━━━━━━━━━━━━━━━━━\u001b[0m\u001b[37m\u001b[0m \u001b[1m1s\u001b[0m 7ms/step - accuracy: 0.6174 - loss: 1.3541 - val_accuracy: 0.6704 - val_loss: 1.2491 - learning_rate: 5.0000e-04\n",
            "Epoch 15/150\n",
            "\u001b[1m57/57\u001b[0m \u001b[32m━━━━━━━━━━━━━━━━━━━━\u001b[0m\u001b[37m\u001b[0m \u001b[1m1s\u001b[0m 6ms/step - accuracy: 0.6108 - loss: 1.3133 - val_accuracy: 0.6593 - val_loss: 1.2414 - learning_rate: 5.0000e-04\n",
            "Epoch 16/150\n",
            "\u001b[1m57/57\u001b[0m \u001b[32m━━━━━━━━━━━━━━━━━━━━\u001b[0m\u001b[37m\u001b[0m \u001b[1m0s\u001b[0m 7ms/step - accuracy: 0.6383 - loss: 1.2657 - val_accuracy: 0.6637 - val_loss: 1.2311 - learning_rate: 5.0000e-04\n",
            "Epoch 17/150\n",
            "\u001b[1m57/57\u001b[0m \u001b[32m━━━━━━━━━━━━━━━━━━━━\u001b[0m\u001b[37m\u001b[0m \u001b[1m1s\u001b[0m 6ms/step - accuracy: 0.6342 - loss: 1.2523 - val_accuracy: 0.6726 - val_loss: 1.2099 - learning_rate: 5.0000e-04\n",
            "Epoch 18/150\n",
            "\u001b[1m57/57\u001b[0m \u001b[32m━━━━━━━━━━━━━━━━━━━━\u001b[0m\u001b[37m\u001b[0m \u001b[1m0s\u001b[0m 7ms/step - accuracy: 0.6567 - loss: 1.2176 - val_accuracy: 0.6836 - val_loss: 1.2023 - learning_rate: 5.0000e-04\n",
            "Epoch 19/150\n",
            "\u001b[1m57/57\u001b[0m \u001b[32m━━━━━━━━━━━━━━━━━━━━\u001b[0m\u001b[37m\u001b[0m \u001b[1m1s\u001b[0m 7ms/step - accuracy: 0.6552 - loss: 1.2312 - val_accuracy: 0.6858 - val_loss: 1.1981 - learning_rate: 5.0000e-04\n",
            "Epoch 20/150\n",
            "\u001b[1m57/57\u001b[0m \u001b[32m━━━━━━━━━━━━━━━━━━━━\u001b[0m\u001b[37m\u001b[0m \u001b[1m1s\u001b[0m 7ms/step - accuracy: 0.6753 - loss: 1.1617 - val_accuracy: 0.6814 - val_loss: 1.1917 - learning_rate: 5.0000e-04\n",
            "Epoch 21/150\n",
            "\u001b[1m57/57\u001b[0m \u001b[32m━━━━━━━━━━━━━━━━━━━━\u001b[0m\u001b[37m\u001b[0m \u001b[1m0s\u001b[0m 6ms/step - accuracy: 0.7023 - loss: 1.1394 - val_accuracy: 0.6726 - val_loss: 1.2026 - learning_rate: 5.0000e-04\n",
            "Epoch 22/150\n",
            "\u001b[1m57/57\u001b[0m \u001b[32m━━━━━━━━━━━━━━━━━━━━\u001b[0m\u001b[37m\u001b[0m \u001b[1m1s\u001b[0m 6ms/step - accuracy: 0.6973 - loss: 1.0938 - val_accuracy: 0.6881 - val_loss: 1.1750 - learning_rate: 5.0000e-04\n",
            "Epoch 23/150\n",
            "\u001b[1m57/57\u001b[0m \u001b[32m━━━━━━━━━━━━━━━━━━━━\u001b[0m\u001b[37m\u001b[0m \u001b[1m1s\u001b[0m 6ms/step - accuracy: 0.7002 - loss: 1.1050 - val_accuracy: 0.6991 - val_loss: 1.1476 - learning_rate: 5.0000e-04\n",
            "Epoch 24/150\n",
            "\u001b[1m57/57\u001b[0m \u001b[32m━━━━━━━━━━━━━━━━━━━━\u001b[0m\u001b[37m\u001b[0m \u001b[1m1s\u001b[0m 6ms/step - accuracy: 0.7177 - loss: 1.0923 - val_accuracy: 0.6881 - val_loss: 1.1531 - learning_rate: 5.0000e-04\n",
            "Epoch 25/150\n",
            "\u001b[1m57/57\u001b[0m \u001b[32m━━━━━━━━━━━━━━━━━━━━\u001b[0m\u001b[37m\u001b[0m \u001b[1m1s\u001b[0m 6ms/step - accuracy: 0.7356 - loss: 1.0185 - val_accuracy: 0.7035 - val_loss: 1.1316 - learning_rate: 5.0000e-04\n",
            "Epoch 26/150\n",
            "\u001b[1m57/57\u001b[0m \u001b[32m━━━━━━━━━━━━━━━━━━━━\u001b[0m\u001b[37m\u001b[0m \u001b[1m1s\u001b[0m 6ms/step - accuracy: 0.7066 - loss: 1.1072 - val_accuracy: 0.7013 - val_loss: 1.1314 - learning_rate: 5.0000e-04\n",
            "Epoch 27/150\n",
            "\u001b[1m57/57\u001b[0m \u001b[32m━━━━━━━━━━━━━━━━━━━━\u001b[0m\u001b[37m\u001b[0m \u001b[1m1s\u001b[0m 6ms/step - accuracy: 0.7227 - loss: 1.0480 - val_accuracy: 0.7035 - val_loss: 1.1280 - learning_rate: 5.0000e-04\n",
            "Epoch 28/150\n",
            "\u001b[1m57/57\u001b[0m \u001b[32m━━━━━━━━━━━━━━━━━━━━\u001b[0m\u001b[37m\u001b[0m \u001b[1m0s\u001b[0m 6ms/step - accuracy: 0.6984 - loss: 1.0463 - val_accuracy: 0.6881 - val_loss: 1.1320 - learning_rate: 5.0000e-04\n",
            "Epoch 29/150\n",
            "\u001b[1m57/57\u001b[0m \u001b[32m━━━━━━━━━━━━━━━━━━━━\u001b[0m\u001b[37m\u001b[0m \u001b[1m0s\u001b[0m 8ms/step - accuracy: 0.7134 - loss: 0.9978 - val_accuracy: 0.7146 - val_loss: 1.1146 - learning_rate: 5.0000e-04\n",
            "Epoch 30/150\n",
            "\u001b[1m57/57\u001b[0m \u001b[32m━━━━━━━━━━━━━━━━━━━━\u001b[0m\u001b[37m\u001b[0m \u001b[1m1s\u001b[0m 10ms/step - accuracy: 0.7294 - loss: 0.9891 - val_accuracy: 0.7058 - val_loss: 1.1095 - learning_rate: 5.0000e-04\n",
            "Epoch 31/150\n",
            "\u001b[1m57/57\u001b[0m \u001b[32m━━━━━━━━━━━━━━━━━━━━\u001b[0m\u001b[37m\u001b[0m \u001b[1m1s\u001b[0m 11ms/step - accuracy: 0.7616 - loss: 0.9518 - val_accuracy: 0.7124 - val_loss: 1.0999 - learning_rate: 5.0000e-04\n",
            "Epoch 32/150\n",
            "\u001b[1m57/57\u001b[0m \u001b[32m━━━━━━━━━━━━━━━━━━━━\u001b[0m\u001b[37m\u001b[0m \u001b[1m1s\u001b[0m 9ms/step - accuracy: 0.7567 - loss: 0.9264 - val_accuracy: 0.7146 - val_loss: 1.0848 - learning_rate: 5.0000e-04\n",
            "Epoch 33/150\n",
            "\u001b[1m57/57\u001b[0m \u001b[32m━━━━━━━━━━━━━━━━━━━━\u001b[0m\u001b[37m\u001b[0m \u001b[1m1s\u001b[0m 11ms/step - accuracy: 0.7731 - loss: 0.9040 - val_accuracy: 0.7146 - val_loss: 1.0980 - learning_rate: 5.0000e-04\n",
            "Epoch 34/150\n",
            "\u001b[1m57/57\u001b[0m \u001b[32m━━━━━━━━━━━━━━━━━━━━\u001b[0m\u001b[37m\u001b[0m \u001b[1m1s\u001b[0m 6ms/step - accuracy: 0.7602 - loss: 0.9146 - val_accuracy: 0.7212 - val_loss: 1.0875 - learning_rate: 5.0000e-04\n",
            "Epoch 35/150\n",
            "\u001b[1m57/57\u001b[0m \u001b[32m━━━━━━━━━━━━━━━━━━━━\u001b[0m\u001b[37m\u001b[0m \u001b[1m1s\u001b[0m 6ms/step - accuracy: 0.7997 - loss: 0.8601 - val_accuracy: 0.7168 - val_loss: 1.0828 - learning_rate: 5.0000e-04\n",
            "Epoch 36/150\n",
            "\u001b[1m57/57\u001b[0m \u001b[32m━━━━━━━━━━━━━━━━━━━━\u001b[0m\u001b[37m\u001b[0m \u001b[1m0s\u001b[0m 6ms/step - accuracy: 0.7741 - loss: 0.8971 - val_accuracy: 0.7190 - val_loss: 1.0696 - learning_rate: 5.0000e-04\n",
            "Epoch 37/150\n",
            "\u001b[1m57/57\u001b[0m \u001b[32m━━━━━━━━━━━━━━━━━━━━\u001b[0m\u001b[37m\u001b[0m \u001b[1m1s\u001b[0m 6ms/step - accuracy: 0.7800 - loss: 0.9186 - val_accuracy: 0.7279 - val_loss: 1.0632 - learning_rate: 5.0000e-04\n",
            "Epoch 38/150\n",
            "\u001b[1m57/57\u001b[0m \u001b[32m━━━━━━━━━━━━━━━━━━━━\u001b[0m\u001b[37m\u001b[0m \u001b[1m1s\u001b[0m 6ms/step - accuracy: 0.7834 - loss: 0.8560 - val_accuracy: 0.7279 - val_loss: 1.0610 - learning_rate: 5.0000e-04\n",
            "Epoch 39/150\n",
            "\u001b[1m57/57\u001b[0m \u001b[32m━━━━━━━━━━━━━━━━━━━━\u001b[0m\u001b[37m\u001b[0m \u001b[1m1s\u001b[0m 6ms/step - accuracy: 0.7793 - loss: 0.8673 - val_accuracy: 0.7168 - val_loss: 1.0575 - learning_rate: 5.0000e-04\n",
            "Epoch 40/150\n",
            "\u001b[1m57/57\u001b[0m \u001b[32m━━━━━━━━━━━━━━━━━━━━\u001b[0m\u001b[37m\u001b[0m \u001b[1m0s\u001b[0m 6ms/step - accuracy: 0.8096 - loss: 0.8163 - val_accuracy: 0.7345 - val_loss: 1.0427 - learning_rate: 5.0000e-04\n",
            "Epoch 41/150\n",
            "\u001b[1m57/57\u001b[0m \u001b[32m━━━━━━━━━━━━━━━━━━━━\u001b[0m\u001b[37m\u001b[0m \u001b[1m0s\u001b[0m 6ms/step - accuracy: 0.7935 - loss: 0.8452 - val_accuracy: 0.7257 - val_loss: 1.0496 - learning_rate: 5.0000e-04\n",
            "Epoch 42/150\n",
            "\u001b[1m57/57\u001b[0m \u001b[32m━━━━━━━━━━━━━━━━━━━━\u001b[0m\u001b[37m\u001b[0m \u001b[1m1s\u001b[0m 7ms/step - accuracy: 0.8168 - loss: 0.7596 - val_accuracy: 0.7367 - val_loss: 1.0320 - learning_rate: 5.0000e-04\n",
            "Epoch 43/150\n",
            "\u001b[1m57/57\u001b[0m \u001b[32m━━━━━━━━━━━━━━━━━━━━\u001b[0m\u001b[37m\u001b[0m \u001b[1m0s\u001b[0m 6ms/step - accuracy: 0.7975 - loss: 0.7946 - val_accuracy: 0.7345 - val_loss: 1.0236 - learning_rate: 5.0000e-04\n",
            "Epoch 44/150\n",
            "\u001b[1m57/57\u001b[0m \u001b[32m━━━━━━━━━━━━━━━━━━━━\u001b[0m\u001b[37m\u001b[0m \u001b[1m1s\u001b[0m 6ms/step - accuracy: 0.8270 - loss: 0.7356 - val_accuracy: 0.7190 - val_loss: 1.0242 - learning_rate: 5.0000e-04\n",
            "Epoch 45/150\n",
            "\u001b[1m57/57\u001b[0m \u001b[32m━━━━━━━━━━━━━━━━━━━━\u001b[0m\u001b[37m\u001b[0m \u001b[1m1s\u001b[0m 6ms/step - accuracy: 0.8441 - loss: 0.7090 - val_accuracy: 0.7279 - val_loss: 1.0412 - learning_rate: 5.0000e-04\n",
            "Epoch 46/150\n",
            "\u001b[1m57/57\u001b[0m \u001b[32m━━━━━━━━━━━━━━━━━━━━\u001b[0m\u001b[37m\u001b[0m \u001b[1m1s\u001b[0m 6ms/step - accuracy: 0.8415 - loss: 0.7316 - val_accuracy: 0.7478 - val_loss: 1.0019 - learning_rate: 5.0000e-04\n",
            "Epoch 47/150\n",
            "\u001b[1m57/57\u001b[0m \u001b[32m━━━━━━━━━━━━━━━━━━━━\u001b[0m\u001b[37m\u001b[0m \u001b[1m0s\u001b[0m 6ms/step - accuracy: 0.8406 - loss: 0.7004 - val_accuracy: 0.7456 - val_loss: 0.9949 - learning_rate: 5.0000e-04\n",
            "Epoch 48/150\n",
            "\u001b[1m57/57\u001b[0m \u001b[32m━━━━━━━━━━━━━━━━━━━━\u001b[0m\u001b[37m\u001b[0m \u001b[1m0s\u001b[0m 6ms/step - accuracy: 0.8345 - loss: 0.7219 - val_accuracy: 0.7522 - val_loss: 1.0059 - learning_rate: 5.0000e-04\n",
            "Epoch 49/150\n",
            "\u001b[1m57/57\u001b[0m \u001b[32m━━━━━━━━━━━━━━━━━━━━\u001b[0m\u001b[37m\u001b[0m \u001b[1m1s\u001b[0m 6ms/step - accuracy: 0.8335 - loss: 0.7285 - val_accuracy: 0.7522 - val_loss: 0.9968 - learning_rate: 5.0000e-04\n",
            "Epoch 50/150\n",
            "\u001b[1m57/57\u001b[0m \u001b[32m━━━━━━━━━━━━━━━━━━━━\u001b[0m\u001b[37m\u001b[0m \u001b[1m0s\u001b[0m 6ms/step - accuracy: 0.8497 - loss: 0.6918 - val_accuracy: 0.7721 - val_loss: 0.9569 - learning_rate: 5.0000e-04\n",
            "Epoch 51/150\n",
            "\u001b[1m57/57\u001b[0m \u001b[32m━━━━━━━━━━━━━━━━━━━━\u001b[0m\u001b[37m\u001b[0m \u001b[1m1s\u001b[0m 6ms/step - accuracy: 0.8479 - loss: 0.6860 - val_accuracy: 0.7655 - val_loss: 0.9614 - learning_rate: 5.0000e-04\n",
            "Epoch 52/150\n",
            "\u001b[1m57/57\u001b[0m \u001b[32m━━━━━━━━━━━━━━━━━━━━\u001b[0m\u001b[37m\u001b[0m \u001b[1m0s\u001b[0m 6ms/step - accuracy: 0.8581 - loss: 0.6723 - val_accuracy: 0.7788 - val_loss: 0.9439 - learning_rate: 5.0000e-04\n",
            "Epoch 53/150\n",
            "\u001b[1m57/57\u001b[0m \u001b[32m━━━━━━━━━━━━━━━━━━━━\u001b[0m\u001b[37m\u001b[0m \u001b[1m1s\u001b[0m 9ms/step - accuracy: 0.8572 - loss: 0.6604 - val_accuracy: 0.7788 - val_loss: 0.9663 - learning_rate: 5.0000e-04\n",
            "Epoch 54/150\n",
            "\u001b[1m57/57\u001b[0m \u001b[32m━━━━━━━━━━━━━━━━━━━━\u001b[0m\u001b[37m\u001b[0m \u001b[1m1s\u001b[0m 10ms/step - accuracy: 0.8650 - loss: 0.6545 - val_accuracy: 0.7721 - val_loss: 0.9739 - learning_rate: 5.0000e-04\n",
            "Epoch 55/150\n",
            "\u001b[1m57/57\u001b[0m \u001b[32m━━━━━━━━━━━━━━━━━━━━\u001b[0m\u001b[37m\u001b[0m \u001b[1m1s\u001b[0m 9ms/step - accuracy: 0.8480 - loss: 0.6622 - val_accuracy: 0.7765 - val_loss: 0.9642 - learning_rate: 5.0000e-04\n",
            "Epoch 56/150\n",
            "\u001b[1m57/57\u001b[0m \u001b[32m━━━━━━━━━━━━━━━━━━━━\u001b[0m\u001b[37m\u001b[0m \u001b[1m1s\u001b[0m 11ms/step - accuracy: 0.8856 - loss: 0.6167 - val_accuracy: 0.7788 - val_loss: 0.9523 - learning_rate: 5.0000e-04\n",
            "Epoch 57/150\n",
            "\u001b[1m56/57\u001b[0m \u001b[32m━━━━━━━━━━━━━━━━━━━\u001b[0m\u001b[37m━\u001b[0m \u001b[1m0s\u001b[0m 5ms/step - accuracy: 0.8767 - loss: 0.6089\n",
            "Epoch 57: ReduceLROnPlateau reducing learning rate to 0.0002500000118743628.\n",
            "\u001b[1m57/57\u001b[0m \u001b[32m━━━━━━━━━━━━━━━━━━━━\u001b[0m\u001b[37m\u001b[0m \u001b[1m1s\u001b[0m 7ms/step - accuracy: 0.8760 - loss: 0.6101 - val_accuracy: 0.7566 - val_loss: 0.9723 - learning_rate: 5.0000e-04\n",
            "Epoch 58/150\n",
            "\u001b[1m57/57\u001b[0m \u001b[32m━━━━━━━━━━━━━━━━━━━━\u001b[0m\u001b[37m\u001b[0m \u001b[1m0s\u001b[0m 6ms/step - accuracy: 0.8781 - loss: 0.6065 - val_accuracy: 0.7677 - val_loss: 0.9574 - learning_rate: 2.5000e-04\n",
            "Epoch 59/150\n",
            "\u001b[1m57/57\u001b[0m \u001b[32m━━━━━━━━━━━━━━━━━━━━\u001b[0m\u001b[37m\u001b[0m \u001b[1m0s\u001b[0m 6ms/step - accuracy: 0.8463 - loss: 0.7122 - val_accuracy: 0.7743 - val_loss: 0.9490 - learning_rate: 2.5000e-04\n",
            "Epoch 60/150\n",
            "\u001b[1m57/57\u001b[0m \u001b[32m━━━━━━━━━━━━━━━━━━━━\u001b[0m\u001b[37m\u001b[0m \u001b[1m1s\u001b[0m 6ms/step - accuracy: 0.8713 - loss: 0.6073 - val_accuracy: 0.7788 - val_loss: 0.9549 - learning_rate: 2.5000e-04\n",
            "Epoch 61/150\n",
            "\u001b[1m57/57\u001b[0m \u001b[32m━━━━━━━━━━━━━━━━━━━━\u001b[0m\u001b[37m\u001b[0m \u001b[1m0s\u001b[0m 6ms/step - accuracy: 0.8855 - loss: 0.5559 - val_accuracy: 0.7699 - val_loss: 0.9491 - learning_rate: 2.5000e-04\n",
            "Epoch 62/150\n",
            "\u001b[1m47/57\u001b[0m \u001b[32m━━━━━━━━━━━━━━━━\u001b[0m\u001b[37m━━━━\u001b[0m \u001b[1m0s\u001b[0m 4ms/step - accuracy: 0.8885 - loss: 0.5785\n",
            "Epoch 62: ReduceLROnPlateau reducing learning rate to 0.0001250000059371814.\n",
            "\u001b[1m57/57\u001b[0m \u001b[32m━━━━━━━━━━━━━━━━━━━━\u001b[0m\u001b[37m\u001b[0m \u001b[1m0s\u001b[0m 6ms/step - accuracy: 0.8877 - loss: 0.5822 - val_accuracy: 0.7721 - val_loss: 0.9530 - learning_rate: 2.5000e-04\n",
            "Epoch 62: early stopping\n",
            "Restoring model weights from the end of the best epoch: 52.\n"
          ]
        }
      ]
    },
    {
      "cell_type": "code",
      "source": [
        "plt.plot(history.history['accuracy'], label='Train Accuracy')\n",
        "plt.plot(history.history['val_accuracy'], label='Validation Accuracy')\n",
        "plt.title('Training vs Validation Accuracy')\n",
        "plt.xlabel('Epoch')\n",
        "plt.ylabel('Accuracy')\n",
        "plt.legend()\n",
        "plt.grid(True)\n",
        "plt.show()\n"
      ],
      "metadata": {
        "id": "GdmF1EWpmv6J",
        "colab": {
          "base_uri": "https://localhost:8080/",
          "height": 472
        },
        "outputId": "3a9725b2-7126-4896-bdce-4ced4355b225"
      },
      "execution_count": 311,
      "outputs": [
        {
          "output_type": "display_data",
          "data": {
            "text/plain": [
              "<Figure size 640x480 with 1 Axes>"
            ],
            "image/png": "[encoded data removed]"
          },
          "metadata": {}
        }
      ]
    },
    {
      "cell_type": "code",
      "source": [
        "from sklearn.metrics import classification_report, confusion_matrix, f1_score, ConfusionMatrixDisplay\n",
        "import numpy as np\n",
        "\n",
        "# Predict\n",
        "y_pred_probs = model.predict(X_test_pca)\n",
        "y_pred = np.argmax(y_pred_probs, axis=1)\n",
        "\n",
        "# F1 and Confusion Matrix\n",
        "print(classification_report(y_test, y_pred, target_names=le.classes_))\n",
        "print(\"F1 Score (macro):\", f1_score(y_test, y_pred, average='macro'))\n",
        "\n",
        "cm = confusion_matrix(y_test, y_pred)\n",
        "disp = ConfusionMatrixDisplay(confusion_matrix=cm, display_labels=le.classes_)\n",
        "disp.plot(cmap='viridis', xticks_rotation=45)\n",
        "plt.title(\"Confusion Matrix\")\n",
        "plt.show()\n"
      ],
      "metadata": {
        "id": "QXBk2PnQnJJo",
        "colab": {
          "base_uri": "https://localhost:8080/",
          "height": 822
        },
        "outputId": "69ca24e8-a038-4bed-a465-99026c1b1127"
      },
      "execution_count": 312,
      "outputs": [
        {
          "output_type": "stream",
          "name": "stdout",
          "text": [
            "\u001b[1m16/16\u001b[0m \u001b[32m━━━━━━━━━━━━━━━━━━━━\u001b[0m\u001b[37m\u001b[0m \u001b[1m0s\u001b[0m 12ms/step\n",
            "              precision    recall  f1-score   support\n",
            "\n",
            "       angry       0.88      0.81      0.85        75\n",
            "        calm       0.82      0.72      0.77        75\n",
            "     disgust       0.59      0.69      0.64        39\n",
            "     fearful       0.84      0.65      0.74        75\n",
            "       happy       0.75      0.71      0.73        75\n",
            "     neutral       0.61      0.82      0.70        38\n",
            "         sad       0.65      0.68      0.66        75\n",
            "   surprised       0.61      0.79      0.69        39\n",
            "\n",
            "    accuracy                           0.73       491\n",
            "   macro avg       0.72      0.73      0.72       491\n",
            "weighted avg       0.74      0.73      0.73       491\n",
            "\n",
            "F1 Score (macro): 0.7198998817388651\n"
          ]
        },
        {
          "output_type": "display_data",
          "data": {
            "text/plain": [
              "<Figure size 640x480 with 2 Axes>"
            ],
            "image/png": "[encoded data removed]"
          },
          "metadata": {}
        }
      ]
    },
    {
      "cell_type": "code",
      "source": [],
      "metadata": {
        "id": "80AT7PYPnoFK"
      },
      "execution_count": null,
      "outputs": []
    },
    {
      "cell_type": "markdown",
      "source": [
        "## Dropping Emotions with Low Scores"
      ],
      "metadata": {
        "id": "Sy-p6ZJyAbnu"
      }
    },
    {
      "cell_type": "code",
      "source": [
        "# Drop unwanted emotions from dataset\n",
        "unwanted_emotions = ['disgust']\n",
        "\n",
        "X_filtered = []\n",
        "y_filtered = []\n",
        "\n",
        "for xi, yi in zip(X, y):  # or (X_pca, y)\n",
        "    if yi not in unwanted_emotions:\n",
        "        X_filtered.append(xi)\n",
        "        y_filtered.append(yi)\n",
        "\n",
        "X_filtered = np.array(X_filtered)\n",
        "y_filtered = np.array(y_filtered)\n"
      ],
      "metadata": {
        "id": "_N8vODOFnurO"
      },
      "execution_count": 313,
      "outputs": []
    },
    {
      "cell_type": "code",
      "source": [
        "le_ = LabelEncoder()\n",
        "y_encoded = le_.fit_transform(y_filtered)\n",
        "\n",
        "X_train, X_test, y_train, y_test = train_test_split(\n",
        "    X_filtered, y_encoded, test_size=0.2, stratify=y_encoded, random_state=42\n",
        ")\n"
      ],
      "metadata": {
        "id": "Rzifubbqvi7n"
      },
      "execution_count": 314,
      "outputs": []
    },
    {
      "cell_type": "code",
      "source": [
        "from sklearn.preprocessing import MinMaxScaler\n",
        "\n",
        "# Scale before PCA\n",
        "scaler_ = MinMaxScaler()\n",
        "X_train_scaled = scaler_.fit_transform(X_train)\n",
        "X_test_scaled = scaler_.transform(X_test)\n",
        "\n",
        "# Apply PCA\n",
        "pca_ = PCA(n_components=0.98, svd_solver='full')\n",
        "X_train_pca = pca_.fit_transform(X_train_scaled)\n",
        "X_test_pca = pca_.transform(X_test_scaled)\n"
      ],
      "metadata": {
        "id": "VYbqo-dGvnwg"
      },
      "execution_count": 315,
      "outputs": []
    },
    {
      "cell_type": "code",
      "source": [
        "# Define hyperparameter grid\n",
        "param_grid = {\n",
        "    'C': [0.1, 1, 10, 100],\n",
        "    'gamma': ['scale', 0.01, 0.001],\n",
        "    'kernel': ['rbf', 'poly', 'sigmoid']\n",
        "}\n",
        "\n",
        "# Grid Search\n",
        "grid = GridSearchCV(\n",
        "    estimator=SVC(),\n",
        "    param_grid=param_grid,\n",
        "    scoring='f1_weighted',\n",
        "    cv=5,\n",
        "    n_jobs=-1,\n",
        "    verbose=2\n",
        ")\n",
        "\n",
        "# Fit model (on PCA data)\n",
        "grid.fit(X_train_pca, y_train)\n",
        "\n",
        "print(\"Best Parameters:\", grid.best_params_)\n",
        "print(\"Best CV Score (F1):\", grid.best_score_)\n"
      ],
      "metadata": {
        "colab": {
          "base_uri": "https://localhost:8080/"
        },
        "id": "8tsWExjYvwgn",
        "outputId": "486955e5-330d-48bd-b06b-0438b4cfc268"
      },
      "execution_count": 317,
      "outputs": [
        {
          "output_type": "stream",
          "name": "stdout",
          "text": [
            "Fitting 5 folds for each of 36 candidates, totalling 180 fits\n",
            "Best Parameters: {'C': 100, 'gamma': 'scale', 'kernel': 'rbf'}\n",
            "Best CV Score (F1): 0.7687844290692089\n"
          ]
        }
      ]
    },
    {
      "cell_type": "code",
      "source": [
        "# Predict on test set\n",
        "best_svc = grid.best_estimator_\n",
        "y_pred = best_svc.predict(X_test_pca)\n",
        "\n",
        "# Classification Report\n",
        "print(\"Test Accuracy:\", accuracy_score(y_test, y_pred))\n",
        "print(\"Classification Report:\")\n",
        "print(classification_report(y_test, y_pred, target_names=le_.classes_))\n",
        "\n",
        "# Confusion Matrix\n",
        "cm = confusion_matrix(y_test, y_pred)\n",
        "plt.figure(figsize=(8, 6))\n",
        "sns.heatmap(cm, annot=True, fmt='d', cmap='Blues', xticklabels=le_.classes_, yticklabels=le_.classes_)\n",
        "plt.xlabel(\"Predicted\")\n",
        "plt.ylabel(\"True\")\n",
        "plt.title(\"Confusion Matrix\")\n",
        "plt.show()\n"
      ],
      "metadata": {
        "colab": {
          "base_uri": "https://localhost:8080/",
          "height": 851
        },
        "id": "x7nq-Zt3v1qF",
        "outputId": "2ac0e9ab-941e-4a64-ed52-63b08f8888c9"
      },
      "execution_count": 318,
      "outputs": [
        {
          "output_type": "stream",
          "name": "stdout",
          "text": [
            "Test Accuracy: 0.8075221238938053\n",
            "Classification Report:\n",
            "              precision    recall  f1-score   support\n",
            "\n",
            "       angry       0.88      0.93      0.90        75\n",
            "        calm       0.86      0.81      0.84        75\n",
            "     fearful       0.76      0.83      0.79        75\n",
            "       happy       0.79      0.73      0.76        75\n",
            "     neutral       0.82      0.84      0.83        38\n",
            "         sad       0.75      0.73      0.74        75\n",
            "   surprised       0.81      0.77      0.79        39\n",
            "\n",
            "    accuracy                           0.81       452\n",
            "   macro avg       0.81      0.81      0.81       452\n",
            "weighted avg       0.81      0.81      0.81       452\n",
            "\n"
          ]
        },
        {
          "output_type": "display_data",
          "data": {
            "text/plain": [
              "<Figure size 800x600 with 2 Axes>"
            ],
            "image/png": "[encoded data removed]"
          },
          "metadata": {}
        }
      ]
    },
    {
      "cell_type": "code",
      "source": [
        "import joblib\n",
        "import os\n",
        "\n",
        "# Ensure the directory exists\n",
        "os.makedirs(\"model\", exist_ok=True)\n",
        "\n",
        "# Save the trained SVC model\n",
        "joblib.dump(best_svc, \"model/emotion_model.pkl\")\n",
        "\n",
        "# Save the scaler, PCA, and label encoder\n",
        "joblib.dump(scaler_, \"model/scaler.pkl\")\n",
        "joblib.dump(pca_, \"model/pca.pkl\")\n",
        "joblib.dump(le_, \"model/label_encoder.pkl\")"
      ],
      "metadata": {
        "colab": {
          "base_uri": "https://localhost:8080/"
        },
        "id": "OaKs5-MRwDzP",
        "outputId": "07c2c6bf-ba2e-4f03-e1d8-948331473843"
      },
      "execution_count": 348,
      "outputs": [
        {
          "output_type": "execute_result",
          "data": {
            "text/plain": [
              "['model/label_encoder.pkl']"
            ]
          },
          "metadata": {},
          "execution_count": 348
        }
      ]
    },
    {
      "cell_type": "code",
      "source": [
        "!ls /content/drive/MyDrive/Audio_Dataset/model\n"
      ],
      "metadata": {
        "colab": {
          "base_uri": "https://localhost:8080/"
        },
        "id": "bSnJBK8exDQw",
        "outputId": "e30b19b6-8f92-4abc-da9d-d474fc1110d4"
      },
      "execution_count": 349,
      "outputs": [
        {
          "output_type": "stream",
          "name": "stdout",
          "text": [
            "emotion_model.h5  emotion_model.pkl  label_encoder.pkl\tpca.pkl  scaler.pkl\n"
          ]
        }
      ]
    },
    {
      "cell_type": "code",
      "source": [],
      "metadata": {
        "id": "RnoizfwdEdD6"
      },
      "execution_count": null,
      "outputs": []
    },
    {
      "cell_type": "markdown",
      "source": [
        "## predict.py"
      ],
      "metadata": {
        "id": "ShbwUGEnCchT"
      }
    },
    {
      "cell_type": "code",
      "source": [
        "import numpy as np\n",
        "import librosa\n",
        "import joblib\n",
        "from tensorflow.keras.models import load_model\n",
        "\n",
        "def extract_features(file_path, duration=3, sr=22050):\n",
        "    try:\n",
        "        y, sr = librosa.load(file_path, sr=sr)\n",
        "        target_len = duration * sr\n",
        "        if len(y) < target_len:\n",
        "            y = np.pad(y, (0, target_len - len(y)))\n",
        "        else:\n",
        "            y = y[:target_len]\n",
        "\n",
        "        features = []\n",
        "        mfcc = librosa.feature.mfcc(y=y, sr=sr, n_mfcc=40)\n",
        "        features.extend(np.mean(mfcc, axis=1))\n",
        "        chroma = librosa.feature.chroma_stft(y=y, sr=sr)\n",
        "        features.extend(np.mean(chroma, axis=1))\n",
        "        mel = librosa.feature.melspectrogram(y=y, sr=sr)\n",
        "        features.extend(np.mean(mel, axis=1))\n",
        "        contrast = librosa.feature.spectral_contrast(y=y, sr=sr)\n",
        "        features.extend(np.mean(contrast, axis=1))\n",
        "        tonnetz = librosa.feature.tonnetz(y=librosa.effects.harmonic(y), sr=sr)\n",
        "        features.extend(np.mean(tonnetz, axis=1))\n",
        "        return np.array(features)\n",
        "    except Exception as e:\n",
        "        print(f\"Error extracting features: {e}\")\n",
        "        return None\n",
        "\n",
        "def predict_emotion(file_path):\n",
        "    print(\"🎧 Loading:\", file_path)\n",
        "    features = extract_features(file_path)\n",
        "    if features is None:\n",
        "        print(\"Feature extraction failed.\")\n",
        "        return \"Error\"\n",
        "\n",
        "    scaler = joblib.load(\"model/scaler.pkl\")\n",
        "    pca = joblib.load(\"model/pca.pkl\")\n",
        "    le = joblib.load(\"model/label_encoder.pkl\")\n",
        "    model = load_model(\"model/emotion_model.h5\")\n",
        "\n",
        "    features_scaled = scaler.transform([features])\n",
        "    features_pca = pca.transform(features_scaled)\n",
        "    prediction = model.predict(features_pca)\n",
        "    label = le.inverse_transform([np.argmax(prediction)])\n",
        "    return label[0]\n"
      ],
      "metadata": {
        "id": "vKvAx9WFxDNc"
      },
      "execution_count": 373,
      "outputs": []
    },
    {
      "cell_type": "code",
      "source": [],
      "metadata": {
        "id": "VBmgFw3txfb8"
      },
      "execution_count": null,
      "outputs": []
    },
    {
      "cell_type": "markdown",
      "source": [
        "## Streamlit"
      ],
      "metadata": {
        "id": "N4lP0vtcCn3B"
      }
    },
    {
      "cell_type": "markdown",
      "source": [
        "### Creating app.py"
      ],
      "metadata": {
        "id": "4-h3RqHPD93o"
      }
    },
    {
      "cell_type": "code",
      "source": [
        "!pip install -q streamlit pyngrok"
      ],
      "metadata": {
        "id": "mGSOaYcIGLFM"
      },
      "execution_count": 368,
      "outputs": []
    },
    {
      "cell_type": "code",
      "source": [
        "app_code = \"\"\"\n",
        "import streamlit as st\n",
        "import numpy as np\n",
        "import librosa\n",
        "import joblib\n",
        "from tensorflow.keras.models import load_model\n",
        "import os\n",
        "\n",
        "scaler = joblib.load(\"model/scaler.pkl\")\n",
        "pca = joblib.load(\"model/pca.pkl\")\n",
        "label_encoder = joblib.load(\"model/label_encoder.pkl\")\n",
        "\n",
        "try:\n",
        "    model = joblib.load(\"model/emotion_model.pkl\")\n",
        "    model_type = \"sklearn\"\n",
        "except:\n",
        "    model = load_model(\"model/emotion_model.h5\")\n",
        "    model_type = \"mlp\"\n",
        "\n",
        "def extract_features(file_path, duration=3, sr=22050):\n",
        "    try:\n",
        "        y, sr = librosa.load(file_path, sr=sr)\n",
        "        target_len = duration * sr\n",
        "        if len(y) < target_len:\n",
        "            y = np.pad(y, (0, target_len - len(y)))\n",
        "        else:\n",
        "            y = y[:target_len]\n",
        "        features = []\n",
        "        features.extend(np.mean(librosa.feature.mfcc(y=y, sr=sr, n_mfcc=40), axis=1))\n",
        "        features.extend(np.mean(librosa.feature.chroma_stft(y=y, sr=sr), axis=1))\n",
        "        features.extend(np.mean(librosa.feature.melspectrogram(y=y, sr=sr), axis=1))\n",
        "        features.extend(np.mean(librosa.feature.spectral_contrast(y=y, sr=sr), axis=1))\n",
        "        features.extend(np.mean(librosa.feature.tonnetz(y=librosa.effects.harmonic(y), sr=sr), axis=1))\n",
        "        return np.array(features)\n",
        "    except Exception as e:\n",
        "        st.error(f\"Error extracting features: {e}\")\n",
        "        return None\n",
        "\n",
        "st.set_page_config(page_title=\"🎙️ Emotion Recognition from Audio\", layout=\"centered\")\n",
        "st.title(\"🎙️ Emotion Recognition from Audio\")\n",
        "st.markdown(\"Upload a `.wav` or `.mp3` file to predict the emotion.\")\n",
        "\n",
        "uploaded_file = st.file_uploader(\"Choose an audio file\", type=[\"wav\", \"mp3\"])\n",
        "\n",
        "if uploaded_file is not None:\n",
        "    with open(\"temp.wav\", \"wb\") as f:\n",
        "        f.write(uploaded_file.read())\n",
        "\n",
        "    st.audio(\"temp.wav\", format=\"audio/wav\")\n",
        "\n",
        "    st.info(\"⏳ Extracting features...\")\n",
        "    feats = extract_features(\"temp.wav\")\n",
        "\n",
        "    if feats is not None:\n",
        "        feats_scaled = scaler.transform([feats])\n",
        "        feats_pca = pca.transform(feats_scaled)\n",
        "\n",
        "        if model_type == \"sklearn\":\n",
        "            pred = model.predict(feats_pca)\n",
        "        else:\n",
        "            pred = np.argmax(model.predict(feats_pca), axis=1)\n",
        "\n",
        "        emotion = label_encoder.inverse_transform(pred)[0]\n",
        "        st.success(f\"🎯 Predicted Emotion: **{emotion.upper()}**\")\n",
        "\"\"\"\n",
        "with open(\"app.py\", \"w\") as f:\n",
        "    f.write(app_code)"
      ],
      "metadata": {
        "id": "xRzVtmyFGLCa"
      },
      "execution_count": 369,
      "outputs": []
    },
    {
      "cell_type": "code",
      "source": [
        "!streamlit run app.py &>/content/log.txt &"
      ],
      "metadata": {
        "id": "Hl9SNADQGXTl"
      },
      "execution_count": 370,
      "outputs": []
    },
    {
      "cell_type": "code",
      "source": [
        "from pyngrok import ngrok\n",
        "ngrok.set_auth_token(\"2z0IxB3Yj6cebgyhksPTEFCqIWZ_5PEjwrZgnGFixsXXmsc4y\")  # Replace with your real token!\n",
        "url = ngrok.connect(8501)\n",
        "print(\"Streamlit App is live at:\", url)"
      ],
      "metadata": {
        "colab": {
          "base_uri": "https://localhost:8080/"
        },
        "id": "V6gGJjyqGaSq",
        "outputId": "705057cf-4477-4cab-b768-45b9378094ff"
      },
      "execution_count": 372,
      "outputs": [
        {
          "output_type": "stream",
          "name": "stdout",
          "text": [
            "Streamlit App is live at: NgrokTunnel: \"https://058d-34-19-45-180.ngrok-free.app\" -> \"http://localhost:8501\"\n"
          ]
        }
      ]
    },
    {
      "cell_type": "code",
      "source": [],
      "metadata": {
        "id": "aEEnjOOeGcib"
      },
      "execution_count": null,
      "outputs": []
    }
  ]
}